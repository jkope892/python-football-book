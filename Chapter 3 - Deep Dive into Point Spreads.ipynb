{
 "cells": [
  {
   "cell_type": "markdown",
   "metadata": {},
   "source": [
    "# Chapter 3 - A Deep Dive Into Point Spreads"
   ]
  },
  {
   "cell_type": "code",
   "execution_count": 1,
   "metadata": {},
   "outputs": [],
   "source": [
    "import pandas as pd\n",
    "import numpy as np\n",
    "import matplotlib.pyplot as plt\n",
    "import seaborn as sns\n",
    "from scipy.stats import iqr"
   ]
  },
  {
   "cell_type": "code",
   "execution_count": 2,
   "metadata": {},
   "outputs": [],
   "source": [
    "df_static = pd.read_csv('odds.csv')"
   ]
  },
  {
   "cell_type": "code",
   "execution_count": 3,
   "metadata": {},
   "outputs": [
    {
     "data": {
      "text/plain": [
       "Index(['schedule_date', 'schedule_season', 'schedule_week', 'schedule_playoff',\n",
       "       'team_home', 'score_home', 'score_away', 'team_away',\n",
       "       'team_favorite_id', 'spread_favorite', 'over_under_line', 'stadium',\n",
       "       'stadium_neutral', 'weather_temperature', 'weather_wind_mph',\n",
       "       'weather_humidity', 'weather_detail'],\n",
       "      dtype='object')"
      ]
     },
     "execution_count": 3,
     "metadata": {},
     "output_type": "execute_result"
    }
   ],
   "source": [
    "df_static.columns"
   ]
  },
  {
   "cell_type": "code",
   "execution_count": 3,
   "metadata": {},
   "outputs": [],
   "source": [
    "# we should make some changes to the columns \n",
    "# we can drop some of the columns we don't need\n",
    "# we can change to column names that fit our needs\n",
    "# we'll simplify things by only using 2009-2018 games\n",
    "\n",
    "# these are explicit columns we won't need\n",
    "dropcols = ['schedule_date', 'schedule_playoff', 'stadium', \n",
    "            'stadium_neutral', 'schedule_playoff']\n",
    "\n",
    "# we don't need any of the weather columns\n",
    "weathercols = [c for c in df_static.columns if 'weather_' in c]\n",
    "\n",
    "# columns we are keeping we want simplified names\n",
    "renamecols = {'schedule_season': 'season', \n",
    "              'schedule_week': 'week', \n",
    "              'team_home': 'home_team',\n",
    "              'team_away': 'away_team',\n",
    "              'score_home': 'home_score',\n",
    "              'score_away': 'away_score',\n",
    "              'spread_favorite': 'spread',\n",
    "              'team_favorite_id': 'favorite',\n",
    "              'over_under_line': 'ou_line'\n",
    "             }\n",
    "\n",
    "# use to get seasons from 2009-2018\n",
    "seasons = list(range(2009, 2019))\n",
    "\n",
    "# group related columns together\n",
    "colorder = ['season', 'week', 'home_team', 'away_team', 'favorite',\n",
    "            'spread', 'ou_line', 'home_score', 'away_score']\n",
    "\n",
    "# python statements can be nested in parentheses\n",
    "# allows deviation from strict whitespace rules\n",
    "# here we create a new dataframe from df_static\n",
    "# .loc: find rows that are not playoff games\n",
    "#       find columns that aren't in the drop or weather list\n",
    "# .rename: use the name mapping in renamecols\n",
    "# .loc: get the columns in the specified order\n",
    "df = (\n",
    "  df_static\n",
    "  .loc[~df_static.schedule_playoff, [c for c in df_static.columns \n",
    "                                    if c not in dropcols + weathercols]]\n",
    "  .rename(columns=renamecols)\n",
    "  .query('season in @seasons')  \n",
    "  .loc[:, colorder]\n",
    ")"
   ]
  },
  {
   "cell_type": "code",
   "execution_count": 4,
   "metadata": {},
   "outputs": [
    {
     "data": {
      "text/plain": [
       "season          int64\n",
       "week           object\n",
       "home_team      object\n",
       "away_team      object\n",
       "favorite       object\n",
       "spread        float64\n",
       "ou_line        object\n",
       "home_score    float64\n",
       "away_score    float64\n",
       "dtype: object"
      ]
     },
     "execution_count": 4,
     "metadata": {},
     "output_type": "execute_result"
    }
   ],
   "source": [
    "# looking at the dtypes, a couple of issues\n",
    "# week should be integer; ou_line should be float\n",
    "df.dtypes"
   ]
  },
  {
   "cell_type": "code",
   "execution_count": 5,
   "metadata": {},
   "outputs": [],
   "source": [
    "# we want to convert these columns to int and float, respectively\n",
    "# pandas method to_numeric allows us to 'coerce' errors into NaN\n",
    "# we can later decide how to deal with these missing values (drop, fill, etc.)\n",
    "df['week'] = df['week'].astype(int)\n",
    "df['ou_line'] = pd.to_numeric(df['ou_line'], errors='coerce')"
   ]
  },
  {
   "cell_type": "code",
   "execution_count": 6,
   "metadata": {},
   "outputs": [
    {
     "data": {
      "text/plain": [
       "array(['PIT', 'ARI', 'ATL', 'BAL', 'PHI', 'CIN', 'MIN', 'GB', 'HOU',\n",
       "       'IND', 'NO', 'NYG', 'SEA', 'DAL', 'NE', 'LAC', 'BUF', 'DEN', 'JAX',\n",
       "       'KC', 'SF', 'TEN', 'WAS', 'NYJ', 'CHI', 'MIA', 'CAR', 'DET', 'OAK',\n",
       "       'CLE', 'TB', 'LAR', 'PICK'], dtype=object)"
      ]
     },
     "execution_count": 6,
     "metadata": {},
     "output_type": "execute_result"
    }
   ],
   "source": [
    "# a strange thing about this dataset is that it uses\n",
    "# full team names for home and away team and then an ID code for favorite\n",
    "# we will have to manipulate the data a bit to get it in the right format\n",
    "# it will be easier to do this if we use standardized team codes\n",
    "# looking at the codes, everything is normal except for PICK\n",
    "# we'll have to deal with that scenario in a little bit\n",
    "df['favorite'].unique()"
   ]
  },
  {
   "cell_type": "code",
   "execution_count": 7,
   "metadata": {},
   "outputs": [],
   "source": [
    "# we'll define a function that converts team names to team codes or IDs,\n",
    "# the familiar two or three character strings (PIT, DAL, CHI, SF, etc.)\n",
    "# TEAM_CODES is a dictionary. The key is the team code, the value is a list of codes/names\n",
    "# the basic idea is to first look for a direct match, which confirms an accurate team code\n",
    "# if no match is found, loop through the lists and look for a match\n",
    "def get_team_code(team):\n",
    "    \"\"\"Standardizes team code across sites\n",
    "\n",
    "    Args:\n",
    "        team (str): the code or team name\n",
    "\n",
    "    Returns:\n",
    "        str: 2-3 letter team code, ATL, BAL, etc.\n",
    "\n",
    "    Examples:\n",
    "        >>>team_code('Ravens')\n",
    "        'BAL'\n",
    "\n",
    "        >>>team_code('JAC')\n",
    "        'JAX'\n",
    "    \"\"\"\n",
    "    TEAM_CODES = {\n",
    "        'ARI': ['ARI', 'Arizona Cardinals', 'Cardinals', 'Arizona', 'crd'],\n",
    "        'ATL': ['ATL', 'Atlanta Falcons', 'Falcons', 'Atlanta', 'atl'],\n",
    "        'BAL': ['BAL', 'Baltimore Ravens', 'Ravens', 'Baltimore', 'rav'],\n",
    "        'BUF': ['BUF', 'Buffalo Bills', 'Bills', 'Buffalo', 'buf'],\n",
    "        'CAR': ['CAR', 'Carolina Panthers', 'Panthers', 'Carolina', 'car'],\n",
    "        'CHI': ['CHI', 'Chicago Bears', 'Bears', 'Chicago', 'chi'],\n",
    "        'CIN': ['CIN', 'Cincinnati Bengals', 'Bengals', 'Cincinnati', 'cin'],\n",
    "        'CLE': ['CLE', 'Cleveland Browns', 'Browns', 'Cleveland', 'cle'],\n",
    "        'DAL': ['DAL', 'Dallas Cowboys', 'Cowboys', 'Dallas', 'dal'],\n",
    "        'DEN': ['DEN', 'Denver Broncos', 'Broncos', 'Denver', 'den'],\n",
    "        'DET': ['DET', 'Detroit Lions', 'Lions', 'Detroit', 'det'],\n",
    "        'GB': ['GB', 'Green Bay Packers', 'Packers', 'Green Bay', 'GNB', 'gnb'],\n",
    "        'HOU': ['HOU', 'Houston Texans', 'Texans', 'Houston', 'htx'],\n",
    "        'IND': ['IND', 'Indianapolis Colts', 'Colts', 'Indianapolis', 'clt'],\n",
    "        'JAX': ['JAC', 'JAC', 'Jacksonville Jaguars', 'Jaguars', 'Jacksonville', 'jac', 'jax'],\n",
    "        'KC': ['KC', 'Kansas City Chiefs', 'Chiefs', 'Kansas City', 'kan', 'KAN'],\n",
    "        'LAC': ['LAC', 'Los Angeles Chargers', 'LA Chargers', 'San Diego Chargers', 'Chargers', 'San Diego', 'SD', 'sdg', 'SDG'],\n",
    "        'LAR': ['LAR', 'LA', 'Los Angeles Rams', 'LA Rams', 'St. Louis Rams', 'Rams', 'St. Louis', 'ram'],\n",
    "        'MIA': ['MIA', 'Miami Dolphins', 'Dolphins', 'Miami', 'mia'],\n",
    "        'MIN': ['MIN', 'Minnesota Vikings', 'Vikings', 'Minnesota', 'min'],\n",
    "        'NE': ['NE', 'New England Patriots', 'Patriots', 'New England', 'NEP', 'nwe', 'NWE'],\n",
    "        'NO': ['NO', 'New Orleans Saints', 'Saints', 'New Orleans', 'NOS', 'nor', 'NOR'],\n",
    "        'NYG': ['NYG', 'New York Giants', 'Giants', 'nyg'],\n",
    "        'NYJ': ['NYJ', 'New York Jets', 'Jets', 'nyj'],\n",
    "        'OAK': ['OAK', 'Oakland Raiders', 'Raiders', 'Oakland', 'rai'],\n",
    "        'PHI': ['PHI', 'Philadelphia Eagles', 'Eagles', 'Philadelphia', 'phi'],\n",
    "        'PIT': ['PIT', 'Pittsburgh Steelers', 'Steelers', 'Pittsburgh', 'pit'],\n",
    "        'SF': ['SF', 'San Francisco 49ers', '49ers', 'SFO', 'San Francisco', 'sfo'],\n",
    "        'SEA': ['SEA', 'Seattle Seahawks', 'Seahawks', 'Seattle', 'sea'],\n",
    "        'TB': ['TB', 'Tampa Bay Buccaneers', 'Buccaneers', 'TBO', 'tam', 'TAM', 'Tampa', 'Tampa Bay'],\n",
    "        'TEN': ['TEN', 'Tennessee Titans', 'Titans', 'Tennessee', 'oti'],\n",
    "        'WAS': ['WAS', 'Washington Redskins', 'Redskins', 'Washington', 'was']\n",
    "    }\n",
    "\n",
    "    if team in TEAM_CODES:\n",
    "        return team\n",
    "    \n",
    "    matches = [(k, v) for k, v in TEAM_CODES.items()\n",
    "               if (team in v or\n",
    "                   team.title() in v or\n",
    "                   team.lower() in v or\n",
    "                   team.upper() in v)\n",
    "               ]\n",
    "    \n",
    "    if len(matches) == 1:\n",
    "        return matches[0][0]\n",
    "    raise ValueError(f'no match for {team}')"
   ]
  },
  {
   "cell_type": "code",
   "execution_count": 8,
   "metadata": {},
   "outputs": [],
   "source": [
    "# for simplicity sake, will treat the home team as the favorite in pickem\n",
    "df['favorite'] = df.apply(lambda row: row.home_team if row.favorite == 'PICK'\n",
    "                                      else row.favorite, axis=1) "
   ]
  },
  {
   "cell_type": "code",
   "execution_count": 9,
   "metadata": {},
   "outputs": [],
   "source": [
    "# now we can standardize all of the team codes\n",
    "df['home_team'] = df['home_team'].apply(get_team_code)\n",
    "df['away_team'] = df['away_team'].apply(get_team_code)\n",
    "df['favorite'] = df['favorite'].apply(get_team_code)"
   ]
  },
  {
   "cell_type": "code",
   "execution_count": 10,
   "metadata": {},
   "outputs": [],
   "source": [
    "# add columns for implied team totals\n",
    "df['favorite_implied'] = (df['ou_line'] - df['spread']) / 2\n",
    "df['underdog_implied'] = (df['ou_line'] + df['spread']) / 2"
   ]
  },
  {
   "cell_type": "code",
   "execution_count": 11,
   "metadata": {},
   "outputs": [],
   "source": [
    "# add boolean column indicating if favorite is home_team\n",
    "df['home_favorite'] = df['home_team'] == df['favorite']"
   ]
  },
  {
   "cell_type": "code",
   "execution_count": 12,
   "metadata": {},
   "outputs": [],
   "source": [
    "# get the actual score for the favorite and the underdog\n",
    "df['score_favorite'] = df.apply(lambda row: row.home_score \n",
    "                                                  if row.home_favorite \n",
    "                                                  else row.away_score, \n",
    "                                      axis=1)\n",
    "\n",
    "df['score_underdog'] = df.apply(lambda row: row.away_score \n",
    "                                                  if row.home_favorite \n",
    "                                                  else row.home_score, \n",
    "                                      axis=1)"
   ]
  },
  {
   "cell_type": "code",
   "execution_count": 13,
   "metadata": {},
   "outputs": [],
   "source": [
    "# calculate the error of the implied totals and ou_line\n",
    "df['favorite_implied_error'] = df['favorite_implied'] - df['score_favorite']\n",
    "df['underdog_implied_error'] = df['underdog_implied'] - df['score_underdog']\n",
    "df['ou_error'] = df['ou_line'] - (df['score_favorite'] + df['score_underdog'])"
   ]
  },
  {
   "cell_type": "code",
   "execution_count": 14,
   "metadata": {},
   "outputs": [],
   "source": [
    "# boolean for whether the favorite won the game\n",
    "# boolean for whether the favorite covered\n",
    "# boolean for whether ou hit\n",
    "df['favorite_win'] = df['score_favorite'] > df['score_underdog']\n",
    "df['favorite_cover'] = df['score_favorite'] + df['spread'] > df['score_underdog']\n",
    "df['ou_over'] = df['ou_line'] < df['score_favorite'] + df['score_underdog']"
   ]
  },
  {
   "cell_type": "code",
   "execution_count": 15,
   "metadata": {},
   "outputs": [],
   "source": [
    "# drop the unneeded columns\n",
    "df = df.drop(['home_team', 'away_team', 'favorite', 'home_score', 'away_score'], axis=1)"
   ]
  },
  {
   "cell_type": "code",
   "execution_count": 16,
   "metadata": {},
   "outputs": [
    {
     "data": {
      "text/html": [
       "<div>\n",
       "<style scoped>\n",
       "    .dataframe tbody tr th:only-of-type {\n",
       "        vertical-align: middle;\n",
       "    }\n",
       "\n",
       "    .dataframe tbody tr th {\n",
       "        vertical-align: top;\n",
       "    }\n",
       "\n",
       "    .dataframe thead th {\n",
       "        text-align: right;\n",
       "    }\n",
       "</style>\n",
       "<table border=\"1\" class=\"dataframe\">\n",
       "  <thead>\n",
       "    <tr style=\"text-align: right;\">\n",
       "      <th></th>\n",
       "      <th>season</th>\n",
       "      <th>week</th>\n",
       "      <th>spread</th>\n",
       "      <th>ou_line</th>\n",
       "      <th>favorite_implied</th>\n",
       "      <th>underdog_implied</th>\n",
       "      <th>home_favorite</th>\n",
       "      <th>score_favorite</th>\n",
       "      <th>score_underdog</th>\n",
       "      <th>favorite_implied_error</th>\n",
       "      <th>underdog_implied_error</th>\n",
       "      <th>ou_error</th>\n",
       "      <th>favorite_win</th>\n",
       "      <th>favorite_cover</th>\n",
       "      <th>ou_over</th>\n",
       "    </tr>\n",
       "  </thead>\n",
       "  <tbody>\n",
       "    <tr>\n",
       "      <th>9741</th>\n",
       "      <td>2009</td>\n",
       "      <td>1</td>\n",
       "      <td>-6.5</td>\n",
       "      <td>35.0</td>\n",
       "      <td>20.75</td>\n",
       "      <td>14.25</td>\n",
       "      <td>True</td>\n",
       "      <td>13.0</td>\n",
       "      <td>10.0</td>\n",
       "      <td>7.75</td>\n",
       "      <td>4.25</td>\n",
       "      <td>12.0</td>\n",
       "      <td>True</td>\n",
       "      <td>False</td>\n",
       "      <td>False</td>\n",
       "    </tr>\n",
       "    <tr>\n",
       "      <th>9742</th>\n",
       "      <td>2009</td>\n",
       "      <td>1</td>\n",
       "      <td>-4.5</td>\n",
       "      <td>45.0</td>\n",
       "      <td>24.75</td>\n",
       "      <td>20.25</td>\n",
       "      <td>True</td>\n",
       "      <td>16.0</td>\n",
       "      <td>20.0</td>\n",
       "      <td>8.75</td>\n",
       "      <td>0.25</td>\n",
       "      <td>9.0</td>\n",
       "      <td>False</td>\n",
       "      <td>False</td>\n",
       "      <td>False</td>\n",
       "    </tr>\n",
       "    <tr>\n",
       "      <th>9743</th>\n",
       "      <td>2009</td>\n",
       "      <td>1</td>\n",
       "      <td>-4.0</td>\n",
       "      <td>44.5</td>\n",
       "      <td>24.25</td>\n",
       "      <td>20.25</td>\n",
       "      <td>True</td>\n",
       "      <td>19.0</td>\n",
       "      <td>7.0</td>\n",
       "      <td>5.25</td>\n",
       "      <td>13.25</td>\n",
       "      <td>18.5</td>\n",
       "      <td>True</td>\n",
       "      <td>True</td>\n",
       "      <td>False</td>\n",
       "    </tr>\n",
       "    <tr>\n",
       "      <th>9744</th>\n",
       "      <td>2009</td>\n",
       "      <td>1</td>\n",
       "      <td>-13.0</td>\n",
       "      <td>36.5</td>\n",
       "      <td>24.75</td>\n",
       "      <td>11.75</td>\n",
       "      <td>True</td>\n",
       "      <td>38.0</td>\n",
       "      <td>24.0</td>\n",
       "      <td>-13.25</td>\n",
       "      <td>-12.25</td>\n",
       "      <td>-25.5</td>\n",
       "      <td>True</td>\n",
       "      <td>True</td>\n",
       "      <td>True</td>\n",
       "    </tr>\n",
       "    <tr>\n",
       "      <th>9745</th>\n",
       "      <td>2009</td>\n",
       "      <td>1</td>\n",
       "      <td>-2.5</td>\n",
       "      <td>43.5</td>\n",
       "      <td>23.00</td>\n",
       "      <td>20.50</td>\n",
       "      <td>False</td>\n",
       "      <td>38.0</td>\n",
       "      <td>10.0</td>\n",
       "      <td>-15.00</td>\n",
       "      <td>10.50</td>\n",
       "      <td>-4.5</td>\n",
       "      <td>True</td>\n",
       "      <td>True</td>\n",
       "      <td>True</td>\n",
       "    </tr>\n",
       "  </tbody>\n",
       "</table>\n",
       "</div>"
      ],
      "text/plain": [
       "      season  week  spread  ou_line  favorite_implied  underdog_implied  \\\n",
       "9741    2009     1    -6.5     35.0             20.75             14.25   \n",
       "9742    2009     1    -4.5     45.0             24.75             20.25   \n",
       "9743    2009     1    -4.0     44.5             24.25             20.25   \n",
       "9744    2009     1   -13.0     36.5             24.75             11.75   \n",
       "9745    2009     1    -2.5     43.5             23.00             20.50   \n",
       "\n",
       "      home_favorite  score_favorite  score_underdog  favorite_implied_error  \\\n",
       "9741           True            13.0            10.0                    7.75   \n",
       "9742           True            16.0            20.0                    8.75   \n",
       "9743           True            19.0             7.0                    5.25   \n",
       "9744           True            38.0            24.0                  -13.25   \n",
       "9745          False            38.0            10.0                  -15.00   \n",
       "\n",
       "      underdog_implied_error  ou_error  favorite_win  favorite_cover  ou_over  \n",
       "9741                    4.25      12.0          True           False    False  \n",
       "9742                    0.25       9.0         False           False    False  \n",
       "9743                   13.25      18.5          True            True    False  \n",
       "9744                  -12.25     -25.5          True            True     True  \n",
       "9745                   10.50      -4.5          True            True     True  "
      ]
     },
     "execution_count": 16,
     "metadata": {},
     "output_type": "execute_result"
    }
   ],
   "source": [
    "df.head()"
   ]
  },
  {
   "cell_type": "markdown",
   "metadata": {},
   "source": [
    "## Over/Under Lines"
   ]
  },
  {
   "cell_type": "code",
   "execution_count": 33,
   "metadata": {},
   "outputs": [
    {
     "data": {
      "text/plain": [
       "count    2560.000000\n",
       "mean       -0.284961\n",
       "std        13.298514\n",
       "min       -49.000000\n",
       "25%        -8.500000\n",
       "50%         0.500000\n",
       "75%         9.000000\n",
       "max        39.500000\n",
       "Name: ou_error, dtype: float64"
      ]
     },
     "metadata": {},
     "output_type": "display_data"
    },
    {
     "data": {
      "text/plain": [
       "17.5"
      ]
     },
     "metadata": {},
     "output_type": "display_data"
    }
   ],
   "source": [
    "display(df['ou_error'].describe())\n",
    "display(iqr(df['ou_error']))"
   ]
  },
  {
   "cell_type": "code",
   "execution_count": 32,
   "metadata": {},
   "outputs": [
    {
     "data": {
      "text/plain": [
       "<matplotlib.lines.Line2D at 0x7fc8791772d0>"
      ]
     },
     "execution_count": 32,
     "metadata": {},
     "output_type": "execute_result"
    },
    {
     "data": {
      "image/png": "[encoded data removed]",
      "text/plain": [
       "<Figure size 864x432 with 1 Axes>"
      ]
     },
     "metadata": {
      "needs_background": "light"
     },
     "output_type": "display_data"
    }
   ],
   "source": [
    "from matplotlib.ticker import MultipleLocator\n",
    "fig, ax = plt.subplots(figsize=(12,6))\n",
    "sns.distplot(df['ou_error'], norm_hist=False, kde=False)\n",
    "ax.xaxis.set_major_locator(MultipleLocator(3))\n",
    "plt.axvline(np.percentile(df['ou_error'], 25), 0, 1)\n",
    "plt.axvline(np.percentile(df['ou_error'], 75), 0, 1)"
   ]
  },
  {
   "cell_type": "code",
   "execution_count": 42,
   "metadata": {},
   "outputs": [
    {
     "data": {
      "text/html": [
       "<div>\n",
       "<style scoped>\n",
       "    .dataframe tbody tr th:only-of-type {\n",
       "        vertical-align: middle;\n",
       "    }\n",
       "\n",
       "    .dataframe tbody tr th {\n",
       "        vertical-align: top;\n",
       "    }\n",
       "\n",
       "    .dataframe thead th {\n",
       "        text-align: right;\n",
       "    }\n",
       "</style>\n",
       "<table border=\"1\" class=\"dataframe\">\n",
       "  <thead>\n",
       "    <tr style=\"text-align: right;\">\n",
       "      <th></th>\n",
       "      <th>0</th>\n",
       "      <th>1</th>\n",
       "      <th>2</th>\n",
       "      <th>3</th>\n",
       "      <th>4</th>\n",
       "      <th>5</th>\n",
       "      <th>6</th>\n",
       "      <th>7</th>\n",
       "      <th>8</th>\n",
       "      <th>9</th>\n",
       "      <th>10</th>\n",
       "    </tr>\n",
       "  </thead>\n",
       "  <tbody>\n",
       "    <tr>\n",
       "      <th>0</th>\n",
       "      <td>11.0</td>\n",
       "      <td>31.00</td>\n",
       "      <td>100.0</td>\n",
       "      <td>245.00</td>\n",
       "      <td>514.0</td>\n",
       "      <td>705.00</td>\n",
       "      <td>530.0</td>\n",
       "      <td>319.00</td>\n",
       "      <td>94.0</td>\n",
       "      <td>11.00</td>\n",
       "      <td>NaN</td>\n",
       "    </tr>\n",
       "    <tr>\n",
       "      <th>1</th>\n",
       "      <td>-49.0</td>\n",
       "      <td>-40.15</td>\n",
       "      <td>-31.3</td>\n",
       "      <td>-22.45</td>\n",
       "      <td>-13.6</td>\n",
       "      <td>-4.75</td>\n",
       "      <td>4.1</td>\n",
       "      <td>12.95</td>\n",
       "      <td>21.8</td>\n",
       "      <td>30.65</td>\n",
       "      <td>39.5</td>\n",
       "    </tr>\n",
       "  </tbody>\n",
       "</table>\n",
       "</div>"
      ],
      "text/plain": [
       "      0      1      2       3      4       5      6       7     8      9    10\n",
       "0  11.0  31.00  100.0  245.00  514.0  705.00  530.0  319.00  94.0  11.00   NaN\n",
       "1 -49.0 -40.15  -31.3  -22.45  -13.6   -4.75    4.1   12.95  21.8  30.65  39.5"
      ]
     },
     "execution_count": 42,
     "metadata": {},
     "output_type": "execute_result"
    }
   ],
   "source": [
    "count, division = np.histogram(df['ou_error'])\n",
    "pd.DataFrame([count, division])"
   ]
  },
  {
   "cell_type": "markdown",
   "metadata": {},
   "source": [
    "## Implied totals"
   ]
  },
  {
   "cell_type": "code",
   "execution_count": 43,
   "metadata": {},
   "outputs": [
    {
     "data": {
      "text/plain": [
       "count    2560.000000\n",
       "mean       -0.141895\n",
       "std         9.714826\n",
       "min       -35.750000\n",
       "25%        -6.250000\n",
       "50%         0.250000\n",
       "75%         6.500000\n",
       "max        26.000000\n",
       "Name: favorite_implied_error, dtype: float64"
      ]
     },
     "metadata": {},
     "output_type": "display_data"
    },
    {
     "data": {
      "text/plain": [
       "12.75"
      ]
     },
     "metadata": {},
     "output_type": "display_data"
    }
   ],
   "source": [
    "display(df['favorite_implied_error'].describe())\n",
    "display(iqr(df['favorite_implied_error']))"
   ]
  },
  {
   "cell_type": "code",
   "execution_count": 44,
   "metadata": {},
   "outputs": [
    {
     "data": {
      "text/plain": [
       "<matplotlib.lines.Line2D at 0x7fc87901dad0>"
      ]
     },
     "execution_count": 44,
     "metadata": {},
     "output_type": "execute_result"
    },
    {
     "data": {
      "image/png": "[encoded data removed]",
      "text/plain": [
       "<Figure size 864x432 with 1 Axes>"
      ]
     },
     "metadata": {
      "needs_background": "light"
     },
     "output_type": "display_data"
    }
   ],
   "source": [
    "from matplotlib.ticker import MultipleLocator\n",
    "fig, ax = plt.subplots(figsize=(12,6))\n",
    "sns.distplot(df['favorite_implied_error'], norm_hist=False, kde=False)\n",
    "ax.xaxis.set_major_locator(MultipleLocator(3))\n",
    "plt.axvline(np.percentile(df['favorite_implied_error'], 25), 0, 1)\n",
    "plt.axvline(np.percentile(df['favorite_implied_error'], 75), 0, 1)"
   ]
  },
  {
   "cell_type": "code",
   "execution_count": 45,
   "metadata": {},
   "outputs": [
    {
     "data": {
      "text/plain": [
       "count    2560.000000\n",
       "mean       -0.143066\n",
       "std         9.195614\n",
       "min       -41.000000\n",
       "25%        -6.000000\n",
       "50%         0.250000\n",
       "75%         6.250000\n",
       "max        25.750000\n",
       "Name: underdog_implied_error, dtype: float64"
      ]
     },
     "metadata": {},
     "output_type": "display_data"
    },
    {
     "data": {
      "text/plain": [
       "12.25"
      ]
     },
     "metadata": {},
     "output_type": "display_data"
    }
   ],
   "source": [
    "display(df['underdog_implied_error'].describe())\n",
    "display(iqr(df['underdog_implied_error']))"
   ]
  },
  {
   "cell_type": "code",
   "execution_count": 46,
   "metadata": {},
   "outputs": [
    {
     "data": {
      "text/plain": [
       "<matplotlib.lines.Line2D at 0x7fc878f5d9d0>"
      ]
     },
     "execution_count": 46,
     "metadata": {},
     "output_type": "execute_result"
    },
    {
     "data": {
      "image/png": "[encoded data removed]",
      "text/plain": [
       "<Figure size 864x432 with 1 Axes>"
      ]
     },
     "metadata": {
      "needs_background": "light"
     },
     "output_type": "display_data"
    }
   ],
   "source": [
    "from matplotlib.ticker import MultipleLocator\n",
    "fig, ax = plt.subplots(figsize=(12,6))\n",
    "sns.distplot(df['underdog_implied_error'], norm_hist=False, kde=False)\n",
    "ax.xaxis.set_major_locator(MultipleLocator(3))\n",
    "plt.axvline(np.percentile(df['underdog_implied_error'], 25), 0, 1)\n",
    "plt.axvline(np.percentile(df['underdog_implied_error'], 75), 0, 1)"
   ]
  },
  {
   "cell_type": "code",
   "execution_count": null,
   "metadata": {},
   "outputs": [],
   "source": []
  }
 ],
 "metadata": {
  "kernelspec": {
   "display_name": "Python 3",
   "language": "python",
   "name": "python3"
  },
  "language_info": {
   "codemirror_mode": {
    "name": "ipython",
    "version": 3
   },
   "file_extension": ".py",
   "mimetype": "text/x-python",
   "name": "python",
   "nbconvert_exporter": "python",
   "pygments_lexer": "ipython3",
   "version": "3.7.4"
  }
 },
 "nbformat": 4,
 "nbformat_minor": 4
}
