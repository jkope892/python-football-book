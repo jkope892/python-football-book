{
 "cells": [
  {
   "cell_type": "code",
   "execution_count": 1,
   "metadata": {},
   "outputs": [
    {
     "name": "stderr",
     "output_type": "stream",
     "text": [
      "/home/sansbacon/miniconda3/lib/python3.7/site-packages/statsmodels/tools/_testing.py:19: FutureWarning: pandas.util.testing is deprecated. Use the functions in the public API at pandas.testing instead.\n",
      "  import pandas.util.testing as tm\n"
     ]
    }
   ],
   "source": [
    "# these are common imports for every notebook\n",
    "# pandas and numpy are for analysis\n",
    "# matplotlib and seaborn are for visualization\n",
    "import pandas as pd\n",
    "import numpy as np\n",
    "import matplotlib.pyplot as plt\n",
    "import seaborn as sns"
   ]
  },
  {
   "cell_type": "markdown",
   "metadata": {},
   "source": [
    "## Initial Datasets"
   ]
  },
  {
   "cell_type": "code",
   "execution_count": 2,
   "metadata": {},
   "outputs": [],
   "source": [
    "# read dataset\n",
    "qb = pd.read_csv('data/qb_yearly.csv')"
   ]
  },
  {
   "cell_type": "code",
   "execution_count": 3,
   "metadata": {},
   "outputs": [
    {
     "data": {
      "text/plain": [
       "source_player_id             object\n",
       "source_player_name           object\n",
       "season_year                   int64\n",
       "age                           int64\n",
       "pos                          object\n",
       "g                             int64\n",
       "gs                            int64\n",
       "pass_cmp                      int64\n",
       "pass_att                      int64\n",
       "pass_cmp_perc               float64\n",
       "pass_yds                      int64\n",
       "pass_td                       int64\n",
       "pass_int                      int64\n",
       "pass_adj_yds_per_att        float64\n",
       "pass_adj_net_yds_per_att    float64\n",
       "dtype: object"
      ]
     },
     "execution_count": 3,
     "metadata": {},
     "output_type": "execute_result"
    }
   ],
   "source": [
    "qb.dtypes"
   ]
  },
  {
   "cell_type": "code",
   "execution_count": 4,
   "metadata": {},
   "outputs": [],
   "source": [
    "# we don't need a few of these columns\n",
    "qb = qb.drop(['gs', 'pos', 'pass_cmp_perc'], axis=1)"
   ]
  },
  {
   "cell_type": "code",
   "execution_count": 5,
   "metadata": {},
   "outputs": [],
   "source": [
    "# drop seasons with less than 100 pass attempts\n",
    "# this should filter out non-QBs who threw some passes\n",
    "# as well as very marginal players\n",
    "qb = qb.loc[qb['pass_att'] >= 100, :]"
   ]
  },
  {
   "cell_type": "code",
   "execution_count": 6,
   "metadata": {},
   "outputs": [],
   "source": [
    "# rename some columns\n",
    "renames = {\n",
    "    'source_player_name': 'player',\n",
    "    'source_player_id': 'player_id',\n",
    "    'pass_adj_yds_per_att': 'aya',\n",
    "    'pass_adj_net_yds_per_att': 'anya'\n",
    "}\n",
    "\n",
    "qb = qb.rename(columns=renames)\n",
    "\n",
    "# convert columns to string\n",
    "qb['player'] = qb['player'].astype('string')\n",
    "qb['player_id'] = qb['player_id'].astype('string')"
   ]
  },
  {
   "cell_type": "code",
   "execution_count": 7,
   "metadata": {},
   "outputs": [
    {
     "data": {
      "text/html": [
       "<div>\n",
       "<style scoped>\n",
       "    .dataframe tbody tr th:only-of-type {\n",
       "        vertical-align: middle;\n",
       "    }\n",
       "\n",
       "    .dataframe tbody tr th {\n",
       "        vertical-align: top;\n",
       "    }\n",
       "\n",
       "    .dataframe thead th {\n",
       "        text-align: right;\n",
       "    }\n",
       "</style>\n",
       "<table border=\"1\" class=\"dataframe\">\n",
       "  <thead>\n",
       "    <tr style=\"text-align: right;\">\n",
       "      <th></th>\n",
       "      <th>player_id</th>\n",
       "      <th>player</th>\n",
       "      <th>season_year</th>\n",
       "      <th>age</th>\n",
       "      <th>g</th>\n",
       "      <th>pass_cmp</th>\n",
       "      <th>pass_att</th>\n",
       "      <th>pass_yds</th>\n",
       "      <th>pass_td</th>\n",
       "      <th>pass_int</th>\n",
       "      <th>aya</th>\n",
       "      <th>anya</th>\n",
       "    </tr>\n",
       "  </thead>\n",
       "  <tbody>\n",
       "  </tbody>\n",
       "</table>\n",
       "</div>"
      ],
      "text/plain": [
       "Empty DataFrame\n",
       "Columns: [player_id, player, season_year, age, g, pass_cmp, pass_att, pass_yds, pass_td, pass_int, aya, anya]\n",
       "Index: []"
      ]
     },
     "execution_count": 7,
     "metadata": {},
     "output_type": "execute_result"
    }
   ],
   "source": [
    "# check missing values\n",
    "qb.loc[qb.isna().any(axis=1), :]"
   ]
  },
  {
   "cell_type": "markdown",
   "metadata": {},
   "source": [
    "## QB Metrics: Adjusted Net Yards Per Attempt"
   ]
  },
  {
   "cell_type": "code",
   "execution_count": 8,
   "metadata": {},
   "outputs": [
    {
     "data": {
      "text/html": [
       "<div>\n",
       "<style scoped>\n",
       "    .dataframe tbody tr th:only-of-type {\n",
       "        vertical-align: middle;\n",
       "    }\n",
       "\n",
       "    .dataframe tbody tr th {\n",
       "        vertical-align: top;\n",
       "    }\n",
       "\n",
       "    .dataframe thead th {\n",
       "        text-align: right;\n",
       "    }\n",
       "</style>\n",
       "<table border=\"1\" class=\"dataframe\">\n",
       "  <thead>\n",
       "    <tr style=\"text-align: right;\">\n",
       "      <th></th>\n",
       "      <th>player_id</th>\n",
       "      <th>player</th>\n",
       "      <th>season_year</th>\n",
       "      <th>age</th>\n",
       "      <th>g</th>\n",
       "      <th>pass_cmp</th>\n",
       "      <th>pass_att</th>\n",
       "      <th>pass_yds</th>\n",
       "      <th>pass_td</th>\n",
       "      <th>pass_int</th>\n",
       "      <th>aya</th>\n",
       "      <th>anya</th>\n",
       "    </tr>\n",
       "  </thead>\n",
       "  <tbody>\n",
       "    <tr>\n",
       "      <th>648</th>\n",
       "      <td>MannPe00</td>\n",
       "      <td>Peyton Manning</td>\n",
       "      <td>2004</td>\n",
       "      <td>28</td>\n",
       "      <td>16</td>\n",
       "      <td>336</td>\n",
       "      <td>497</td>\n",
       "      <td>4557</td>\n",
       "      <td>49</td>\n",
       "      <td>10</td>\n",
       "      <td>10.2</td>\n",
       "      <td>9.78</td>\n",
       "    </tr>\n",
       "    <tr>\n",
       "      <th>1381</th>\n",
       "      <td>RodgAa00</td>\n",
       "      <td>Aaron Rodgers</td>\n",
       "      <td>2011</td>\n",
       "      <td>28</td>\n",
       "      <td>15</td>\n",
       "      <td>343</td>\n",
       "      <td>502</td>\n",
       "      <td>4643</td>\n",
       "      <td>45</td>\n",
       "      <td>6</td>\n",
       "      <td>10.5</td>\n",
       "      <td>9.39</td>\n",
       "    </tr>\n",
       "    <tr>\n",
       "      <th>1573</th>\n",
       "      <td>FoleNi00</td>\n",
       "      <td>Nick Foles</td>\n",
       "      <td>2013</td>\n",
       "      <td>24</td>\n",
       "      <td>13</td>\n",
       "      <td>203</td>\n",
       "      <td>317</td>\n",
       "      <td>2891</td>\n",
       "      <td>27</td>\n",
       "      <td>2</td>\n",
       "      <td>10.5</td>\n",
       "      <td>9.18</td>\n",
       "    </tr>\n",
       "    <tr>\n",
       "      <th>1834</th>\n",
       "      <td>RyanMa00</td>\n",
       "      <td>Matt Ryan</td>\n",
       "      <td>2016</td>\n",
       "      <td>31</td>\n",
       "      <td>16</td>\n",
       "      <td>373</td>\n",
       "      <td>534</td>\n",
       "      <td>4944</td>\n",
       "      <td>38</td>\n",
       "      <td>7</td>\n",
       "      <td>10.1</td>\n",
       "      <td>9.03</td>\n",
       "    </tr>\n",
       "    <tr>\n",
       "      <th>2014</th>\n",
       "      <td>MahoPa00</td>\n",
       "      <td>Patrick Mahomes</td>\n",
       "      <td>2018</td>\n",
       "      <td>23</td>\n",
       "      <td>16</td>\n",
       "      <td>383</td>\n",
       "      <td>580</td>\n",
       "      <td>5097</td>\n",
       "      <td>50</td>\n",
       "      <td>12</td>\n",
       "      <td>9.6</td>\n",
       "      <td>8.89</td>\n",
       "    </tr>\n",
       "    <tr>\n",
       "      <th>953</th>\n",
       "      <td>BradTo00</td>\n",
       "      <td>Tom Brady</td>\n",
       "      <td>2007</td>\n",
       "      <td>30</td>\n",
       "      <td>16</td>\n",
       "      <td>398</td>\n",
       "      <td>578</td>\n",
       "      <td>4806</td>\n",
       "      <td>50</td>\n",
       "      <td>8</td>\n",
       "      <td>9.4</td>\n",
       "      <td>8.88</td>\n",
       "    </tr>\n",
       "    <tr>\n",
       "      <th>1547</th>\n",
       "      <td>MannPe00</td>\n",
       "      <td>Peyton Manning</td>\n",
       "      <td>2013</td>\n",
       "      <td>37</td>\n",
       "      <td>16</td>\n",
       "      <td>450</td>\n",
       "      <td>659</td>\n",
       "      <td>5477</td>\n",
       "      <td>55</td>\n",
       "      <td>10</td>\n",
       "      <td>9.3</td>\n",
       "      <td>8.87</td>\n",
       "    </tr>\n",
       "    <tr>\n",
       "      <th>1843</th>\n",
       "      <td>BradTo00</td>\n",
       "      <td>Tom Brady</td>\n",
       "      <td>2016</td>\n",
       "      <td>39</td>\n",
       "      <td>12</td>\n",
       "      <td>291</td>\n",
       "      <td>432</td>\n",
       "      <td>3554</td>\n",
       "      <td>28</td>\n",
       "      <td>2</td>\n",
       "      <td>9.3</td>\n",
       "      <td>8.81</td>\n",
       "    </tr>\n",
       "    <tr>\n",
       "      <th>1645</th>\n",
       "      <td>RodgAa00</td>\n",
       "      <td>Aaron Rodgers</td>\n",
       "      <td>2014</td>\n",
       "      <td>31</td>\n",
       "      <td>16</td>\n",
       "      <td>341</td>\n",
       "      <td>520</td>\n",
       "      <td>4381</td>\n",
       "      <td>38</td>\n",
       "      <td>5</td>\n",
       "      <td>9.5</td>\n",
       "      <td>8.65</td>\n",
       "    </tr>\n",
       "    <tr>\n",
       "      <th>10</th>\n",
       "      <td>CunnRa00</td>\n",
       "      <td>Randall Cunningham</td>\n",
       "      <td>1998</td>\n",
       "      <td>35</td>\n",
       "      <td>15</td>\n",
       "      <td>259</td>\n",
       "      <td>425</td>\n",
       "      <td>3704</td>\n",
       "      <td>34</td>\n",
       "      <td>10</td>\n",
       "      <td>9.3</td>\n",
       "      <td>8.54</td>\n",
       "    </tr>\n",
       "  </tbody>\n",
       "</table>\n",
       "</div>"
      ],
      "text/plain": [
       "     player_id              player  season_year  age   g  pass_cmp  pass_att  \\\n",
       "648   MannPe00      Peyton Manning         2004   28  16       336       497   \n",
       "1381  RodgAa00       Aaron Rodgers         2011   28  15       343       502   \n",
       "1573  FoleNi00          Nick Foles         2013   24  13       203       317   \n",
       "1834  RyanMa00           Matt Ryan         2016   31  16       373       534   \n",
       "2014  MahoPa00     Patrick Mahomes         2018   23  16       383       580   \n",
       "953   BradTo00           Tom Brady         2007   30  16       398       578   \n",
       "1547  MannPe00      Peyton Manning         2013   37  16       450       659   \n",
       "1843  BradTo00           Tom Brady         2016   39  12       291       432   \n",
       "1645  RodgAa00       Aaron Rodgers         2014   31  16       341       520   \n",
       "10    CunnRa00  Randall Cunningham         1998   35  15       259       425   \n",
       "\n",
       "      pass_yds  pass_td  pass_int   aya  anya  \n",
       "648       4557       49        10  10.2  9.78  \n",
       "1381      4643       45         6  10.5  9.39  \n",
       "1573      2891       27         2  10.5  9.18  \n",
       "1834      4944       38         7  10.1  9.03  \n",
       "2014      5097       50        12   9.6  8.89  \n",
       "953       4806       50         8   9.4  8.88  \n",
       "1547      5477       55        10   9.3  8.87  \n",
       "1843      3554       28         2   9.3  8.81  \n",
       "1645      4381       38         5   9.5  8.65  \n",
       "10        3704       34        10   9.3  8.54  "
      ]
     },
     "execution_count": 8,
     "metadata": {},
     "output_type": "execute_result"
    }
   ],
   "source": [
    "# anya identifies all-time greats like Manning, Brady, Rodgers\n",
    "# also highlights massive seasons like Mahomes 2018, Ryan 2016, Foles 2013\n",
    "qb.sort_values('anya', ascending=False).head(10)"
   ]
  },
  {
   "cell_type": "code",
   "execution_count": 14,
   "metadata": {},
   "outputs": [
    {
     "data": {
      "text/plain": [
       "count    960.000000\n",
       "mean       5.514198\n",
       "std        1.384128\n",
       "min        1.050000\n",
       "25%        4.607500\n",
       "50%        5.540000\n",
       "75%        6.442500\n",
       "max        9.780000\n",
       "Name: anya, dtype: float64"
      ]
     },
     "execution_count": 14,
     "metadata": {},
     "output_type": "execute_result"
    }
   ],
   "source": [
    "# let's look at how anya is distributed\n",
    "# we have 960 QB seasons\n",
    "# 25th percentile is is 4.6, median is 5.5, 75th is 6.44\n",
    "qb['anya'].describe()"
   ]
  },
  {
   "cell_type": "code",
   "execution_count": 15,
   "metadata": {},
   "outputs": [
    {
     "name": "stdout",
     "output_type": "stream",
     "text": [
      "0.09052486510917301\n",
      "-0.12965253547380817\n"
     ]
    },
    {
     "data": {
      "text/plain": [
       "<matplotlib.axes._subplots.AxesSubplot at 0x7f1fe6dd23d0>"
      ]
     },
     "execution_count": 15,
     "metadata": {},
     "output_type": "execute_result"
    },
    {
     "data": {
      "image/png": "[encoded data removed]",
      "text/plain": [
       "<Figure size 432x288 with 1 Axes>"
      ]
     },
     "metadata": {
      "needs_background": "light"
     },
     "output_type": "display_data"
    }
   ],
   "source": [
    "# looks like anya is normally distributed \n",
    "# skew and kurtosis near zero, histogram looks normal\n",
    "from scipy.stats import skew, kurtosis\n",
    "print(kurtosis(qb['anya']))\n",
    "print(skew(qb['anya']))\n",
    "qb['anya'].hist()"
   ]
  },
  {
   "cell_type": "markdown",
   "metadata": {},
   "source": [
    "## Create Age Curves with \"Delta Method\""
   ]
  },
  {
   "cell_type": "markdown",
   "metadata": {},
   "source": [
    "### Unadjusted Delta Method"
   ]
  },
  {
   "cell_type": "code",
   "execution_count": null,
   "metadata": {},
   "outputs": [],
   "source": [
    "# delta method starts with calculating the change or delta in a metric\n",
    "# from one year to the next\n",
    "# here, we will start with adjusted net yards per attempt\n",
    "# will be easier if we sort the data at the beginning\n",
    "qb = qb.sort_values(['player_id', 'season_year'])"
   ]
  },
  {
   "cell_type": "code",
   "execution_count": null,
   "metadata": {},
   "outputs": [],
   "source": [
    "# create two new columns\n",
    "# anya_lag shows the anya from the previous year\n",
    "# anya_d shows the change in anya from the previous year\n",
    "# a positive anya_d means improved, negative means regressed\n",
    "qb['anya_lag'] = qb.groupby(['player_id'])['anya'].shift(1)\n",
    "qb['anya_d'] = qb['anya'] - qb['anya_lag']"
   ]
  },
  {
   "cell_type": "code",
   "execution_count": null,
   "metadata": {},
   "outputs": [],
   "source": [
    "# the delta method doesn't allow for gaps in seasons\n",
    "# so we also need to measure the change in season_year\n",
    "qb['season_lag'] = qb.groupby(['player_id'])['season_year'].shift(1)\n",
    "qb['season_d'] = qb['season_year'] - qb['season_lag']"
   ]
  },
  {
   "cell_type": "code",
   "execution_count": null,
   "metadata": {},
   "outputs": [],
   "source": [
    "# now we can filter out the na rows\n",
    "# which are the first row of that player in the dataset\n",
    "qb = qb.loc[~qb.isna().any(axis=1), :]"
   ]
  },
  {
   "cell_type": "code",
   "execution_count": null,
   "metadata": {},
   "outputs": [],
   "source": [
    "# we can also filter out rows where season_d > 1\n",
    "# so we ensure consecutive seasons\n",
    "qb = qb.loc[qb['season_d'] == 1, :]"
   ]
  },
  {
   "cell_type": "code",
   "execution_count": null,
   "metadata": {},
   "outputs": [],
   "source": [
    "# now we'll make a dataframe of age and anya_d\n",
    "qb_age_curve = (\n",
    "    qb.groupby('age')['anya_d']\n",
    "    .agg(['count', 'mean'])\n",
    "    .reset_index()\n",
    ")"
   ]
  },
  {
   "cell_type": "code",
   "execution_count": null,
   "metadata": {},
   "outputs": [],
   "source": [
    "qb_age_curve.plot(x='age', y='mean', kind='scatter')"
   ]
  },
  {
   "cell_type": "markdown",
   "metadata": {},
   "source": [
    "### Weighted Delta Method"
   ]
  },
  {
   "cell_type": "code",
   "execution_count": null,
   "metadata": {},
   "outputs": [],
   "source": [
    "# as before, we will use adjusted net yards / attempt as the metric\n",
    "# will be easier if we sort the data at the beginning\n",
    "# that way we can visually see the lag\n",
    "qb = qb.sort_values(['player_id', 'season_year'])"
   ]
  },
  {
   "cell_type": "code",
   "execution_count": null,
   "metadata": {},
   "outputs": [],
   "source": [
    "# create two new columns\n",
    "# anya_lag shows the anya from the previous year\n",
    "# anya_d shows the change in anya from the previous year\n",
    "# a positive anya_d means improved, negative means regressed\n",
    "qb['anya_lag'] = qb.groupby(['player_id'])['anya'].shift(1)\n",
    "qb['anya_d'] = qb['anya'] - qb['anya_lag']"
   ]
  },
  {
   "cell_type": "code",
   "execution_count": null,
   "metadata": {},
   "outputs": [],
   "source": [
    "# the delta method doesn't allow for gaps in seasons\n",
    "# so we also need to measure the change in season_year\n",
    "qb['season_lag'] = qb.groupby(['player_id'])['season_year'].shift(1)\n",
    "qb['season_d'] = qb['season_year'] - qb['season_lag']"
   ]
  },
  {
   "cell_type": "code",
   "execution_count": null,
   "metadata": {},
   "outputs": [],
   "source": [
    "# now we can filter out the na rows\n",
    "# which are the first row of that player in the dataset\n",
    "qb = qb.loc[~qb.isna().any(axis=1), :]"
   ]
  },
  {
   "cell_type": "code",
   "execution_count": null,
   "metadata": {},
   "outputs": [],
   "source": [
    "# we can also filter out rows where season_d > 1\n",
    "# so we ensure consecutive seasons\n",
    "qb = qb.loc[qb['season_d'] == 1, :]"
   ]
  },
  {
   "cell_type": "code",
   "execution_count": null,
   "metadata": {},
   "outputs": [],
   "source": [
    "qb_age_curve['anya_d_wm'] = (\n",
    " qb\n",
    " .groupby('age')\n",
    " .apply(lambda df_: np.average(df_.anya_d, weights=df_.pass_att))\n",
    ")"
   ]
  },
  {
   "cell_type": "code",
   "execution_count": null,
   "metadata": {},
   "outputs": [],
   "source": [
    "qb_age_curve"
   ]
  },
  {
   "cell_type": "code",
   "execution_count": null,
   "metadata": {},
   "outputs": [],
   "source": [
    "qb_age_curve.reset_index().plot(x='age', y='weighted_mean', kind='scatter')"
   ]
  },
  {
   "cell_type": "code",
   "execution_count": 167,
   "metadata": {},
   "outputs": [],
   "source": [
    "# polynomial fit"
   ]
  },
  {
   "cell_type": "code",
   "execution_count": 168,
   "metadata": {},
   "outputs": [],
   "source": [
    "poly_params = np.polyfit(qb_age_curve.index, qb_age_curve.anya_d_mean, 3)\n",
    "poly_3 = np.poly1d(poly_params)\n",
    "xpoly = np.linspace(x.min(), x.max(), 100)\n",
    "ypoly = poly_3(xpoly)"
   ]
  },
  {
   "cell_type": "code",
   "execution_count": 169,
   "metadata": {},
   "outputs": [
    {
     "data": {
      "text/plain": [
       "[<matplotlib.lines.Line2D at 0x7f1fe2032c10>,\n",
       " <matplotlib.lines.Line2D at 0x7f1fe1b58510>]"
      ]
     },
     "execution_count": 169,
     "metadata": {},
     "output_type": "execute_result"
    },
    {
     "data": {
      "image/png": "[encoded data removed]",
      "text/plain": [
       "<Figure size 432x288 with 1 Axes>"
      ]
     },
     "metadata": {
      "needs_background": "light"
     },
     "output_type": "display_data"
    }
   ],
   "source": [
    "plt.plot(x, y, 'o', xpoly, ypoly)"
   ]
  },
  {
   "cell_type": "markdown",
   "metadata": {},
   "source": [
    "## Create Age Curves with Peak Method"
   ]
  },
  {
   "cell_type": "code",
   "execution_count": null,
   "metadata": {},
   "outputs": [],
   "source": [
    "# idea here is to identify the player's peak year and then\n",
    "# express every other season as a % of the player's peak\n",
    "# so if Manning's best season was 10 aya\n",
    "# a season with 9.2 aya would be 92 (we are using 1-100 scale)"
   ]
  },
  {
   "cell_type": "code",
   "execution_count": 9,
   "metadata": {},
   "outputs": [],
   "source": [
    "# as before, we will use adjusted net yards / attempt as the metric\n",
    "# will be easier if we sort the data at the beginning\n",
    "# that way we can visually check the calculations\n",
    "qb = qb.sort_values(['player_id', 'season_year'])"
   ]
  },
  {
   "cell_type": "code",
   "execution_count": 10,
   "metadata": {},
   "outputs": [
    {
     "data": {
      "text/plain": [
       "player_id\n",
       "AikmTr00    7.06\n",
       "AlleJo02    5.71\n",
       "AlleKy00    4.76\n",
       "AndeDe00    6.29\n",
       "BankTo00    5.46\n",
       "Name: anya, dtype: float64"
      ]
     },
     "metadata": {},
     "output_type": "display_data"
    },
    {
     "data": {
      "text/plain": [
       "22      7.06\n",
       "117     7.06\n",
       "236     7.06\n",
       "2037    5.71\n",
       "2134    5.71\n",
       "Name: anya, dtype: float64"
      ]
     },
     "metadata": {},
     "output_type": "display_data"
    }
   ],
   "source": [
    "# create two new columns\n",
    "# peak shows the maximum anya for the player\n",
    "# normally, groupby produces one row per group\n",
    "# but we want the peak value for every row\n",
    "# tranform produces series of the same length as the original series\n",
    "# so if there are 5 Aikman rows, it sets the peak in all of those rows\n",
    "display(qb.groupby(['player_id'])['anya'].max().head())\n",
    "display(qb.groupby(['player_id'])['anya'].transform('max').head())\n",
    "qb['peak'] = qb.groupby(['player_id'])['anya'].transform('max')"
   ]
  },
  {
   "cell_type": "code",
   "execution_count": 17,
   "metadata": {},
   "outputs": [],
   "source": [
    "# anya_d shows the difference between peak and anya for this row\n",
    "from math import floor\n",
    "qb['anya_d'] = qb.apply(lambda df_: floor((df_.anya / df_.peak) * 100), axis=1)"
   ]
  },
  {
   "cell_type": "code",
   "execution_count": 174,
   "metadata": {},
   "outputs": [],
   "source": [
    "# now we'll make a dataframe of age and anya_d\n",
    "# we want to use the weighted average of anya_d\n",
    "# meaning that a QB that throws 600 passes will contribute\n",
    "# more to the average than one who throws 350 passes.\n",
    "qb_age_curve = (\n",
    "    qb.query('(age > 21) & (age < 40)')\n",
    "    .groupby('age')\n",
    "    .agg({'anya_d': ['count', 'mean']})\n",
    ")"
   ]
  },
  {
   "cell_type": "code",
   "execution_count": 175,
   "metadata": {},
   "outputs": [],
   "source": [
    "qb_age_curve.columns = ['_'.join([el for el in c if el]) \n",
    "                        for c in qb_age_curve.columns.to_flat_index()]"
   ]
  },
  {
   "cell_type": "code",
   "execution_count": 176,
   "metadata": {},
   "outputs": [],
   "source": [
    "poly_params = np.polyfit(qb_age_curve.index, qb_age_curve.anya_d_mean, 3)\n",
    "poly_3 = np.poly1d(poly_params)\n",
    "xpoly = np.linspace(x.min(), x.max(), 100)\n",
    "ypoly = poly_3(xpoly)"
   ]
  },
  {
   "cell_type": "code",
   "execution_count": 183,
   "metadata": {},
   "outputs": [
    {
     "data": {
      "text/plain": [
       "([<matplotlib.axis.XTick at 0x7f1fe0c16b90>,\n",
       "  <matplotlib.axis.XTick at 0x7f1fe0c161d0>,\n",
       "  <matplotlib.axis.XTick at 0x7f1fe0be4a10>,\n",
       "  <matplotlib.axis.XTick at 0x7f1fe1356ed0>,\n",
       "  <matplotlib.axis.XTick at 0x7f1fe13569d0>,\n",
       "  <matplotlib.axis.XTick at 0x7f1fe1356fd0>,\n",
       "  <matplotlib.axis.XTick at 0x7f1fe12f0810>,\n",
       "  <matplotlib.axis.XTick at 0x7f1fe12f0490>,\n",
       "  <matplotlib.axis.XTick at 0x7f1fe12e7f10>,\n",
       "  <matplotlib.axis.XTick at 0x7f1fe12e7310>,\n",
       "  <matplotlib.axis.XTick at 0x7f1fe12e5d10>,\n",
       "  <matplotlib.axis.XTick at 0x7f1fe130c210>,\n",
       "  <matplotlib.axis.XTick at 0x7f1fe17ada50>,\n",
       "  <matplotlib.axis.XTick at 0x7f1fe1315610>,\n",
       "  <matplotlib.axis.XTick at 0x7f1fe1812d90>,\n",
       "  <matplotlib.axis.XTick at 0x7f1fe1315710>,\n",
       "  <matplotlib.axis.XTick at 0x7f1fe14e8c90>,\n",
       "  <matplotlib.axis.XTick at 0x7f1fe17c9b50>,\n",
       "  <matplotlib.axis.XTick at 0x7f1fe1763a10>],\n",
       " <a list of 19 Text xticklabel objects>)"
      ]
     },
     "execution_count": 183,
     "metadata": {},
     "output_type": "execute_result"
    },
    {
     "data": {
      "image/png": "[encoded data removed]",
      "text/plain": [
       "<Figure size 648x360 with 1 Axes>"
      ]
     },
     "metadata": {
      "needs_background": "light"
     },
     "output_type": "display_data"
    }
   ],
   "source": [
    "fig, ax = plt.subplots(figsize=(9, 5))\n",
    "plt.plot(x, y, 'o', xpoly, ypoly)\n",
    "plt.xticks(range(21, 40))"
   ]
  },
  {
   "cell_type": "code",
   "execution_count": 189,
   "metadata": {},
   "outputs": [
    {
     "data": {
      "text/plain": [
       "[<matplotlib.lines.Line2D at 0x7f1fe0a1a210>,\n",
       " <matplotlib.lines.Line2D at 0x7f1fe0ea1890>]"
      ]
     },
     "execution_count": 189,
     "metadata": {},
     "output_type": "execute_result"
    },
    {
     "data": {
      "image/png": "[encoded data removed]",
      "text/plain": [
       "<Figure size 432x288 with 1 Axes>"
      ]
     },
     "metadata": {
      "needs_background": "light"
     },
     "output_type": "display_data"
    }
   ],
   "source": [
    "# try the same plot with a spline\n",
    "x = qb_age_curve.index\n",
    "y = qb_age_curve['anya_d_mean']\n",
    "spl = UnivariateSpline(x, y, s=25)\n",
    "xx = np.linspace(x.min(), x.max(), 100)\n",
    "plt.plot(x, y, 'bo', xx, spl(xx))"
   ]
  },
  {
   "cell_type": "code",
   "execution_count": 190,
   "metadata": {},
   "outputs": [
    {
     "data": {
      "text/plain": [
       "[<matplotlib.lines.Line2D at 0x7f1fe09a1990>,\n",
       " <matplotlib.lines.Line2D at 0x7f1fe0925210>]"
      ]
     },
     "execution_count": 190,
     "metadata": {},
     "output_type": "execute_result"
    },
    {
     "data": {
      "image/png": "[encoded data removed]",
      "text/plain": [
       "<Figure size 432x288 with 1 Axes>"
      ]
     },
     "metadata": {
      "needs_background": "light"
     },
     "output_type": "display_data"
    }
   ],
   "source": [
    "x = qb_age_curve.index\n",
    "y = qb_age_curve['anya_d_mean']\n",
    "spl = InterpolatedUnivariateSpline(x, y)\n",
    "xx = np.linspace(x.min(), x.max(), 100)\n",
    "plt.plot(x, y, 'bo', xx, spl(xx))"
   ]
  },
  {
   "cell_type": "code",
   "execution_count": 204,
   "metadata": {},
   "outputs": [],
   "source": [
    "# weighted mean\n",
    "qb_age_curve['anya_d_wm'] = (\n",
    "    qb\n",
    "    .groupby('age')\n",
    "    .apply(lambda df_: np.average(df_.anya_d, weights=df_.pass_att))\n",
    ")"
   ]
  },
  {
   "cell_type": "code",
   "execution_count": 194,
   "metadata": {},
   "outputs": [],
   "source": [
    "x = qb_age_curve.index\n",
    "y = qb_age_curve.anya_d_wm\n",
    "poly_params = np.polyfit(x, y, 3)\n",
    "poly_3 = np.poly1d(poly_params)\n",
    "xx = np.linspace(x.min(), x.max(), 100)\n",
    "yy = poly_3(xx)"
   ]
  },
  {
   "cell_type": "code",
   "execution_count": 201,
   "metadata": {},
   "outputs": [
    {
     "data": {
      "text/plain": [
       "([<matplotlib.axis.XTick at 0x7f1fe05f2150>,\n",
       "  <matplotlib.axis.XTick at 0x7f1fe05e73d0>,\n",
       "  <matplotlib.axis.XTick at 0x7f1fe05e75d0>,\n",
       "  <matplotlib.axis.XTick at 0x7f1fe061a590>,\n",
       "  <matplotlib.axis.XTick at 0x7f1fe061aad0>,\n",
       "  <matplotlib.axis.XTick at 0x7f1fe0622050>,\n",
       "  <matplotlib.axis.XTick at 0x7f1fe0622790>,\n",
       "  <matplotlib.axis.XTick at 0x7f1fe0622dd0>,\n",
       "  <matplotlib.axis.XTick at 0x7f1fe061ab50>,\n",
       "  <matplotlib.axis.XTick at 0x7f1fe05a7410>,\n",
       "  <matplotlib.axis.XTick at 0x7f1fe05a7910>,\n",
       "  <matplotlib.axis.XTick at 0x7f1fe05a77d0>,\n",
       "  <matplotlib.axis.XTick at 0x7f1fe05af5d0>,\n",
       "  <matplotlib.axis.XTick at 0x7f1fe05afc10>,\n",
       "  <matplotlib.axis.XTick at 0x7f1fe05b6290>,\n",
       "  <matplotlib.axis.XTick at 0x7f1fe05b68d0>,\n",
       "  <matplotlib.axis.XTick at 0x7f1fe05b6f10>,\n",
       "  <matplotlib.axis.XTick at 0x7f1fe05afc90>,\n",
       "  <matplotlib.axis.XTick at 0x7f1fe05a7e90>],\n",
       " <a list of 19 Text xticklabel objects>)"
      ]
     },
     "execution_count": 201,
     "metadata": {},
     "output_type": "execute_result"
    },
    {
     "data": {
      "image/png": "[encoded data removed]",
      "text/plain": [
       "<Figure size 648x360 with 1 Axes>"
      ]
     },
     "metadata": {
      "needs_background": "light"
     },
     "output_type": "display_data"
    }
   ],
   "source": [
    "fig, ax = plt.subplots(figsize=(9, 5))\n",
    "plt.plot(x, y, 'o', xx, yy)\n",
    "plt.xticks(range(21, 40))"
   ]
  },
  {
   "cell_type": "code",
   "execution_count": 202,
   "metadata": {},
   "outputs": [
    {
     "data": {
      "text/plain": [
       "([<matplotlib.axis.XTick at 0x7f1fe057b090>,\n",
       "  <matplotlib.axis.XTick at 0x7f1fe069d490>,\n",
       "  <matplotlib.axis.XTick at 0x7f1fe0572950>,\n",
       "  <matplotlib.axis.XTick at 0x7f1fe05288d0>,\n",
       "  <matplotlib.axis.XTick at 0x7f1fe0528e10>,\n",
       "  <matplotlib.axis.XTick at 0x7f1fe052e490>,\n",
       "  <matplotlib.axis.XTick at 0x7f1fe052e790>,\n",
       "  <matplotlib.axis.XTick at 0x7f1fe052ee10>,\n",
       "  <matplotlib.axis.XTick at 0x7f1fe0534490>,\n",
       "  <matplotlib.axis.XTick at 0x7f1fe0534ad0>,\n",
       "  <matplotlib.axis.XTick at 0x7f1fe053c050>,\n",
       "  <matplotlib.axis.XTick at 0x7f1fe053c750>,\n",
       "  <matplotlib.axis.XTick at 0x7f1fe053cd90>,\n",
       "  <matplotlib.axis.XTick at 0x7f1fe0544410>,\n",
       "  <matplotlib.axis.XTick at 0x7f1fe053c7d0>,\n",
       "  <matplotlib.axis.XTick at 0x7f1fe052e110>,\n",
       "  <matplotlib.axis.XTick at 0x7f1fe05441d0>,\n",
       "  <matplotlib.axis.XTick at 0x7f1fe054b190>,\n",
       "  <matplotlib.axis.XTick at 0x7f1fe054b790>],\n",
       " <a list of 19 Text xticklabel objects>)"
      ]
     },
     "execution_count": 202,
     "metadata": {},
     "output_type": "execute_result"
    },
    {
     "data": {
      "image/png": "[encoded data removed]",
      "text/plain": [
       "<Figure size 648x360 with 1 Axes>"
      ]
     },
     "metadata": {
      "needs_background": "light"
     },
     "output_type": "display_data"
    }
   ],
   "source": [
    "# try the same plot with a spline\n",
    "x = qb_age_curve.index\n",
    "y = qb_age_curve['anya_d_wm']\n",
    "spl = UnivariateSpline(x, y, s=25)\n",
    "xx = np.linspace(x.min(), x.max(), 100)\n",
    "yy = spl(xx)\n",
    "fig, ax = plt.subplots(figsize=(9, 5))\n",
    "plt.plot(x, y, 'o', xx, yy)\n",
    "plt.xticks(range(21, 40))"
   ]
  },
  {
   "cell_type": "code",
   "execution_count": 203,
   "metadata": {},
   "outputs": [
    {
     "data": {
      "text/plain": [
       "([<matplotlib.axis.XTick at 0x7f1fe0507dd0>,\n",
       "  <matplotlib.axis.XTick at 0x7f1fe0507310>,\n",
       "  <matplotlib.axis.XTick at 0x7f1fe05072d0>,\n",
       "  <matplotlib.axis.XTick at 0x7f1fe04b62d0>,\n",
       "  <matplotlib.axis.XTick at 0x7f1fe04b6790>,\n",
       "  <matplotlib.axis.XTick at 0x7f1fe04b6d90>,\n",
       "  <matplotlib.axis.XTick at 0x7f1fe04bb450>,\n",
       "  <matplotlib.axis.XTick at 0x7f1fe04b6e10>,\n",
       "  <matplotlib.axis.XTick at 0x7f1fe04bbad0>,\n",
       "  <matplotlib.axis.XTick at 0x7f1fe04c3190>,\n",
       "  <matplotlib.axis.XTick at 0x7f1fe04c3750>,\n",
       "  <matplotlib.axis.XTick at 0x7f1fe04c3d90>,\n",
       "  <matplotlib.axis.XTick at 0x7f1fe04c9410>,\n",
       "  <matplotlib.axis.XTick at 0x7f1fe04c9a50>,\n",
       "  <matplotlib.axis.XTick at 0x7f1fe04c9d90>,\n",
       "  <matplotlib.axis.XTick at 0x7f1fe04d0710>,\n",
       "  <matplotlib.axis.XTick at 0x7f1fe04c94d0>,\n",
       "  <matplotlib.axis.XTick at 0x7f1fe04bbb90>,\n",
       "  <matplotlib.axis.XTick at 0x7f1fe04d0d50>],\n",
       " <a list of 19 Text xticklabel objects>)"
      ]
     },
     "execution_count": 203,
     "metadata": {},
     "output_type": "execute_result"
    },
    {
     "data": {
      "image/png": "[encoded data removed]",
      "text/plain": [
       "<Figure size 648x360 with 1 Axes>"
      ]
     },
     "metadata": {
      "needs_background": "light"
     },
     "output_type": "display_data"
    }
   ],
   "source": [
    "x = qb_age_curve.index\n",
    "y = qb_age_curve['anya_d_wm']\n",
    "spl = InterpolatedUnivariateSpline(x, y)\n",
    "xx = np.linspace(x.min(), x.max(), 100)\n",
    "yy = spl(xx)\n",
    "fig, ax = plt.subplots(figsize=(9, 5))\n",
    "plt.plot(x, y, 'o', xx, yy)\n",
    "plt.xticks(range(21, 40))"
   ]
  },
  {
   "cell_type": "markdown",
   "metadata": {},
   "source": [
    "## Helper Functions"
   ]
  },
  {
   "cell_type": "code",
   "execution_count": null,
   "metadata": {},
   "outputs": [],
   "source": [
    "# calculate fantasy points\n",
    "def qb_points(row, add_bonus=False):\n",
    "    \"\"\"Calculates qb fantasy points from row in dataframe\"\"\"\n",
    "    # assume 4 points pass TD, 1 point per 25 yards\n",
    "    # NOTE: our dataset does not have fumbles\n",
    "    points = 0\n",
    "    points += row.pass_yds * .04\n",
    "    points += row.pass_td * 4\n",
    "    points -= row.pass_int\n",
    "    points += row.rush_yds * .10\n",
    "    points += row.rush_td * 6\n",
    "    if add_bonus and row.pass_yds >= 300:\n",
    "        points += 3\n",
    "    return points"
   ]
  },
  {
   "cell_type": "code",
   "execution_count": null,
   "metadata": {},
   "outputs": [],
   "source": [
    "# add fantasy points\n",
    "def add_fantasy_points(df):\n",
    "    \"\"\"Adds fantasy points columns to dataframe\"\"\"\n",
    "    df['fpts'] = df.apply(qb_points, axis=1)\n",
    "    df['dkpts'] = df.apply(qb_points, args=(True,), axis=1)\n",
    "    return df"
   ]
  },
  {
   "cell_type": "code",
   "execution_count": null,
   "metadata": {},
   "outputs": [],
   "source": [
    "def yearly_stats(df):\n",
    "    statcols = ['pass_att', 'pass_cmp', 'pass_int', 'pass_td', 'pass_yds', 'rush_att',\n",
    "                'rush_td', 'rush_yds', 'air_yards', 'fpts', 'dkpts']\n",
    "    return df.groupby(['nflid', 'player', 'season_year'])[statcols].sum()"
   ]
  },
  {
   "cell_type": "code",
   "execution_count": null,
   "metadata": {},
   "outputs": [],
   "source": [
    "def age_as_of_game(df):\n",
    "    \"\"\"Player age as of game date\"\"\"\n",
    "    # calculate the age by subtracting birthdate from gamedate\n",
    "    # convert the timedelta to days, then divide by 365\n",
    "    return df.apply(lambda df_: (df_.game_date - df_.birthdate).days / 365, axis=1)"
   ]
  },
  {
   "cell_type": "code",
   "execution_count": null,
   "metadata": {},
   "outputs": [],
   "source": [
    "def age_as_of_season(df):\n",
    "    \"\"\"Player age as of season start (Sept 1)\"\"\"\n",
    "    # create index that is cross join of nflid and seasons\n",
    "    idx = pd.MultiIndex.from_product(\n",
    "            [df.nflid.unique(), df.season_year.unique()], \n",
    "            names = [\"nflid\", \"season_year\"]\n",
    "    )\n",
    "\n",
    "    df = pd.DataFrame(idx).reset_index().join(df, how='left', on='nflid')\n",
    "    return (\n",
    "        df\n",
    "        .assign(start_date=lambda df_: df_.season_year.apply(lambda x: datetime(x, 9, 1)))\n",
    "        .assign(age=lambda df_: df_.apply(lambda row: (row.start_date - row.birthdate).days / 365, axis=1))\n",
    "        .drop(['birthdate', 'start_date'], axis=1)\n",
    "        .set_index(['nflid', 'season_year'])\n",
    "    )\n"
   ]
  }
 ],
 "metadata": {
  "kernelspec": {
   "display_name": "Python 3",
   "language": "python",
   "name": "python3"
  },
  "language_info": {
   "codemirror_mode": {
    "name": "ipython",
    "version": 3
   },
   "file_extension": ".py",
   "mimetype": "text/x-python",
   "name": "python",
   "nbconvert_exporter": "python",
   "pygments_lexer": "ipython3",
   "version": "3.7.4"
  }
 },
 "nbformat": 4,
 "nbformat_minor": 4
}
