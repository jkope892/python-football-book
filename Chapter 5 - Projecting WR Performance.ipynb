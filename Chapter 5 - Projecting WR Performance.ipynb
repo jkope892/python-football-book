{
 "cells": [
  {
   "cell_type": "code",
   "execution_count": null,
   "metadata": {},
   "outputs": [],
   "source": [
    "# these are common imports for every notebook\n",
    "# pandas and numpy are for analysis\n",
    "# matplotlib and seaborn are for visualization\n",
    "import pandas as pd\n",
    "import numpy as np\n",
    "import matplotlib.pyplot as plt\n",
    "import seaborn as sns"
   ]
  },
  {
   "cell_type": "markdown",
   "metadata": {},
   "source": [
    "## Initial Datasets"
   ]
  },
  {
   "cell_type": "code",
   "execution_count": 1,
   "metadata": {},
   "outputs": [],
   "source": [
    "# idea behind this chapter is to build a knn model from WR college stats / athleticism\n",
    "# are going to predict whether the receiver has a 1000 yard season in his first five years"
   ]
  },
  {
   "cell_type": "code",
   "execution_count": null,
   "metadata": {},
   "outputs": [],
   "source": []
  },
  {
   "cell_type": "code",
   "execution_count": null,
   "metadata": {},
   "outputs": [],
   "source": []
  },
  {
   "cell_type": "code",
   "execution_count": null,
   "metadata": {},
   "outputs": [],
   "source": []
  },
  {
   "cell_type": "code",
   "execution_count": null,
   "metadata": {},
   "outputs": [],
   "source": []
  },
  {
   "cell_type": "code",
   "execution_count": null,
   "metadata": {},
   "outputs": [],
   "source": [
    "qb.dtypes"
   ]
  },
  {
   "cell_type": "code",
   "execution_count": null,
   "metadata": {},
   "outputs": [],
   "source": [
    "# we don't need a few of these columns\n",
    "qb = qb.drop(['gs', 'pos', 'pass_cmp_perc'], axis=1)"
   ]
  },
  {
   "cell_type": "code",
   "execution_count": null,
   "metadata": {},
   "outputs": [],
   "source": [
    "# drop seasons with less than 100 pass attempts\n",
    "# this should filter out non-QBs who threw some passes\n",
    "# as well as very marginal players\n",
    "qb = qb.loc[qb['pass_att'] >= 100, :]"
   ]
  },
  {
   "cell_type": "code",
   "execution_count": null,
   "metadata": {},
   "outputs": [],
   "source": [
    "# rename some columns\n",
    "renames = {\n",
    "    'source_player_name': 'player',\n",
    "    'source_player_id': 'player_id',\n",
    "    'pass_adj_yds_per_att': 'aya',\n",
    "    'pass_adj_net_yds_per_att': 'anya'\n",
    "}\n",
    "\n",
    "qb = qb.rename(columns=renames)\n",
    "\n",
    "# convert columns to string\n",
    "qb['player'] = qb['player'].astype('string')\n",
    "qb['player_id'] = qb['player_id'].astype('string')"
   ]
  },
  {
   "cell_type": "code",
   "execution_count": null,
   "metadata": {},
   "outputs": [],
   "source": [
    "# check missing values\n",
    "qb.loc[qb.isna().any(axis=1), :]"
   ]
  },
  {
   "cell_type": "markdown",
   "metadata": {},
   "source": [
    "## QB Metrics: Adjusted Net Yards Per Attempt"
   ]
  },
  {
   "cell_type": "code",
   "execution_count": null,
   "metadata": {},
   "outputs": [],
   "source": [
    "# anya identifies all-time greats like Manning, Brady, Rodgers\n",
    "# also highlights massive seasons like Mahomes 2018, Ryan 2016, Foles 2013\n",
    "qb.sort_values('anya', ascending=False).head(10)"
   ]
  },
  {
   "cell_type": "code",
   "execution_count": null,
   "metadata": {},
   "outputs": [],
   "source": [
    "# let's look at how anya is distributed\n",
    "# we have 960 QB seasons\n",
    "# 25th percentile is is 4.6, median is 5.5, 75th is 6.44\n",
    "qb['anya'].describe()"
   ]
  },
  {
   "cell_type": "code",
   "execution_count": null,
   "metadata": {},
   "outputs": [],
   "source": [
    "# looks like anya is normally distributed \n",
    "# skew and kurtosis near zero, histogram looks normal\n",
    "from scipy.stats import skew, kurtosis\n",
    "print(kurtosis(qb['anya']))\n",
    "print(skew(qb['anya']))\n",
    "qb['anya'].hist()"
   ]
  },
  {
   "cell_type": "markdown",
   "metadata": {},
   "source": [
    "## Create Age Curves with \"Delta Method\""
   ]
  },
  {
   "cell_type": "markdown",
   "metadata": {},
   "source": [
    "### Unadjusted Delta Method"
   ]
  },
  {
   "cell_type": "code",
   "execution_count": null,
   "metadata": {},
   "outputs": [],
   "source": [
    "# delta method starts with calculating the change or delta in a metric\n",
    "# from one year to the next\n",
    "# here, we will start with adjusted net yards per attempt\n",
    "# will be easier if we sort the data at the beginning\n",
    "qb = qb.sort_values(['player_id', 'season_year'])"
   ]
  },
  {
   "cell_type": "code",
   "execution_count": null,
   "metadata": {},
   "outputs": [],
   "source": [
    "# create two new columns\n",
    "# anya_lag shows the anya from the previous year\n",
    "# anya_d shows the change in anya from the previous year\n",
    "# a positive anya_d means improved, negative means regressed\n",
    "qb['anya_lag'] = qb.groupby(['player_id'])['anya'].shift(1)\n",
    "qb['anya_d'] = qb['anya'] - qb['anya_lag']"
   ]
  },
  {
   "cell_type": "code",
   "execution_count": null,
   "metadata": {},
   "outputs": [],
   "source": [
    "# the delta method doesn't allow for gaps in seasons\n",
    "# so we also need to measure the change in season_year\n",
    "qb['season_lag'] = qb.groupby(['player_id'])['season_year'].shift(1)\n",
    "qb['season_d'] = qb['season_year'] - qb['season_lag']"
   ]
  },
  {
   "cell_type": "code",
   "execution_count": null,
   "metadata": {},
   "outputs": [],
   "source": [
    "# now we can filter out the na rows\n",
    "# which are the first row of that player in the dataset\n",
    "qb = qb.loc[~qb.isna().any(axis=1), :]"
   ]
  },
  {
   "cell_type": "code",
   "execution_count": null,
   "metadata": {},
   "outputs": [],
   "source": [
    "# we can also filter out rows where season_d > 1\n",
    "# so we ensure consecutive seasons\n",
    "qb = qb.loc[qb['season_d'] == 1, :]"
   ]
  },
  {
   "cell_type": "code",
   "execution_count": null,
   "metadata": {},
   "outputs": [],
   "source": [
    "# now we'll make a dataframe of age and anya_d\n",
    "qb_age_curve = (\n",
    "    qb.groupby('age')['anya_d']\n",
    "    .agg(['count', 'mean'])\n",
    "    .reset_index()\n",
    ")"
   ]
  },
  {
   "cell_type": "code",
   "execution_count": null,
   "metadata": {},
   "outputs": [],
   "source": [
    "qb_age_curve.plot(x='age', y='mean', kind='scatter')"
   ]
  },
  {
   "cell_type": "markdown",
   "metadata": {},
   "source": [
    "### Weighted Delta Method"
   ]
  },
  {
   "cell_type": "code",
   "execution_count": null,
   "metadata": {},
   "outputs": [],
   "source": [
    "# as before, we will use adjusted net yards / attempt as the metric\n",
    "# will be easier if we sort the data at the beginning\n",
    "# that way we can visually see the lag\n",
    "qb = qb.sort_values(['player_id', 'season_year'])"
   ]
  },
  {
   "cell_type": "code",
   "execution_count": null,
   "metadata": {},
   "outputs": [],
   "source": [
    "# create two new columns\n",
    "# anya_lag shows the anya from the previous year\n",
    "# anya_d shows the change in anya from the previous year\n",
    "# a positive anya_d means improved, negative means regressed\n",
    "qb['anya_lag'] = qb.groupby(['player_id'])['anya'].shift(1)\n",
    "qb['anya_d'] = qb['anya'] - qb['anya_lag']"
   ]
  },
  {
   "cell_type": "code",
   "execution_count": null,
   "metadata": {},
   "outputs": [],
   "source": [
    "# the delta method doesn't allow for gaps in seasons\n",
    "# so we also need to measure the change in season_year\n",
    "qb['season_lag'] = qb.groupby(['player_id'])['season_year'].shift(1)\n",
    "qb['season_d'] = qb['season_year'] - qb['season_lag']"
   ]
  },
  {
   "cell_type": "code",
   "execution_count": null,
   "metadata": {},
   "outputs": [],
   "source": [
    "# now we can filter out the na rows\n",
    "# which are the first row of that player in the dataset\n",
    "qb = qb.loc[~qb.isna().any(axis=1), :]"
   ]
  },
  {
   "cell_type": "code",
   "execution_count": null,
   "metadata": {},
   "outputs": [],
   "source": [
    "# we can also filter out rows where season_d > 1\n",
    "# so we ensure consecutive seasons\n",
    "qb = qb.loc[qb['season_d'] == 1, :]"
   ]
  },
  {
   "cell_type": "code",
   "execution_count": null,
   "metadata": {},
   "outputs": [],
   "source": [
    "qb_age_curve['anya_d_wm'] = (\n",
    " qb\n",
    " .groupby('age')\n",
    " .apply(lambda df_: np.average(df_.anya_d, weights=df_.pass_att))\n",
    ")"
   ]
  },
  {
   "cell_type": "code",
   "execution_count": null,
   "metadata": {},
   "outputs": [],
   "source": [
    "qb_age_curve"
   ]
  },
  {
   "cell_type": "code",
   "execution_count": null,
   "metadata": {},
   "outputs": [],
   "source": [
    "qb_age_curve.reset_index().plot(x='age', y='weighted_mean', kind='scatter')"
   ]
  },
  {
   "cell_type": "code",
   "execution_count": null,
   "metadata": {},
   "outputs": [],
   "source": [
    "# polynomial fit"
   ]
  },
  {
   "cell_type": "code",
   "execution_count": null,
   "metadata": {},
   "outputs": [],
   "source": [
    "poly_params = np.polyfit(qb_age_curve.index, qb_age_curve.anya_d_mean, 3)\n",
    "poly_3 = np.poly1d(poly_params)\n",
    "xpoly = np.linspace(x.min(), x.max(), 100)\n",
    "ypoly = poly_3(xpoly)"
   ]
  },
  {
   "cell_type": "code",
   "execution_count": null,
   "metadata": {},
   "outputs": [],
   "source": [
    "plt.plot(x, y, 'o', xpoly, ypoly)"
   ]
  },
  {
   "cell_type": "markdown",
   "metadata": {},
   "source": [
    "## Create Age Curves with Peak Method"
   ]
  },
  {
   "cell_type": "code",
   "execution_count": null,
   "metadata": {},
   "outputs": [],
   "source": [
    "# idea here is to identify the player's peak year and then\n",
    "# express every other season as a % of the player's peak\n",
    "# so if Manning's best season was 10 aya\n",
    "# a season with 9.2 aya would be 92 (we are using 1-100 scale)"
   ]
  },
  {
   "cell_type": "code",
   "execution_count": null,
   "metadata": {},
   "outputs": [],
   "source": [
    "# as before, we will use adjusted net yards / attempt as the metric\n",
    "# will be easier if we sort the data at the beginning\n",
    "# that way we can visually check the calculations\n",
    "qb = qb.sort_values(['player_id', 'season_year'])"
   ]
  },
  {
   "cell_type": "code",
   "execution_count": null,
   "metadata": {},
   "outputs": [],
   "source": [
    "# create two new columns\n",
    "# peak shows the maximum anya for the player\n",
    "# normally, groupby produces one row per group\n",
    "# but we want the peak value for every row\n",
    "# tranform produces series of the same length as the original series\n",
    "# so if there are 5 Aikman rows, it sets the peak in all of those rows\n",
    "display(qb.groupby(['player_id'])['anya'].max().head())\n",
    "display(qb.groupby(['player_id'])['anya'].transform('max').head())\n",
    "qb['peak'] = qb.groupby(['player_id'])['anya'].transform('max')"
   ]
  },
  {
   "cell_type": "code",
   "execution_count": null,
   "metadata": {},
   "outputs": [],
   "source": [
    "# anya_d shows the difference between peak and anya for this row\n",
    "from math import floor\n",
    "qb['anya_d'] = qb.apply(lambda df_: floor((df_.anya / df_.peak) * 100), axis=1)"
   ]
  },
  {
   "cell_type": "code",
   "execution_count": null,
   "metadata": {},
   "outputs": [],
   "source": [
    "# now we'll make a dataframe of age and anya_d\n",
    "# we want to use the weighted average of anya_d\n",
    "# meaning that a QB that throws 600 passes will contribute\n",
    "# more to the average than one who throws 350 passes.\n",
    "qb_age_curve = (\n",
    "    qb.query('(age > 21) & (age < 40)')\n",
    "    .groupby('age')\n",
    "    .agg({'anya_d': ['count', 'mean']})\n",
    ")"
   ]
  },
  {
   "cell_type": "code",
   "execution_count": null,
   "metadata": {},
   "outputs": [],
   "source": [
    "qb_age_curve.columns = ['_'.join([el for el in c if el]) \n",
    "                        for c in qb_age_curve.columns.to_flat_index()]"
   ]
  },
  {
   "cell_type": "code",
   "execution_count": null,
   "metadata": {},
   "outputs": [],
   "source": [
    "poly_params = np.polyfit(qb_age_curve.index, qb_age_curve.anya_d_mean, 3)\n",
    "poly_3 = np.poly1d(poly_params)\n",
    "xpoly = np.linspace(x.min(), x.max(), 100)\n",
    "ypoly = poly_3(xpoly)"
   ]
  },
  {
   "cell_type": "code",
   "execution_count": null,
   "metadata": {},
   "outputs": [],
   "source": [
    "fig, ax = plt.subplots(figsize=(9, 5))\n",
    "plt.plot(x, y, 'o', xpoly, ypoly)\n",
    "plt.xticks(range(21, 40))"
   ]
  },
  {
   "cell_type": "code",
   "execution_count": null,
   "metadata": {},
   "outputs": [],
   "source": [
    "# try the same plot with a spline\n",
    "x = qb_age_curve.index\n",
    "y = qb_age_curve['anya_d_mean']\n",
    "spl = UnivariateSpline(x, y, s=25)\n",
    "xx = np.linspace(x.min(), x.max(), 100)\n",
    "plt.plot(x, y, 'bo', xx, spl(xx))"
   ]
  },
  {
   "cell_type": "code",
   "execution_count": null,
   "metadata": {},
   "outputs": [],
   "source": [
    "x = qb_age_curve.index\n",
    "y = qb_age_curve['anya_d_mean']\n",
    "spl = InterpolatedUnivariateSpline(x, y)\n",
    "xx = np.linspace(x.min(), x.max(), 100)\n",
    "plt.plot(x, y, 'bo', xx, spl(xx))"
   ]
  },
  {
   "cell_type": "code",
   "execution_count": null,
   "metadata": {},
   "outputs": [],
   "source": [
    "# weighted mean\n",
    "qb_age_curve['anya_d_wm'] = (\n",
    "    qb\n",
    "    .groupby('age')\n",
    "    .apply(lambda df_: np.average(df_.anya_d, weights=df_.pass_att))\n",
    ")"
   ]
  },
  {
   "cell_type": "code",
   "execution_count": null,
   "metadata": {},
   "outputs": [],
   "source": [
    "x = qb_age_curve.index\n",
    "y = qb_age_curve.anya_d_wm\n",
    "poly_params = np.polyfit(x, y, 3)\n",
    "poly_3 = np.poly1d(poly_params)\n",
    "xx = np.linspace(x.min(), x.max(), 100)\n",
    "yy = poly_3(xx)"
   ]
  },
  {
   "cell_type": "code",
   "execution_count": null,
   "metadata": {},
   "outputs": [],
   "source": [
    "fig, ax = plt.subplots(figsize=(9, 5))\n",
    "plt.plot(x, y, 'o', xx, yy)\n",
    "plt.xticks(range(21, 40))"
   ]
  },
  {
   "cell_type": "code",
   "execution_count": null,
   "metadata": {},
   "outputs": [],
   "source": [
    "# try the same plot with a spline\n",
    "x = qb_age_curve.index\n",
    "y = qb_age_curve['anya_d_wm']\n",
    "spl = UnivariateSpline(x, y, s=25)\n",
    "xx = np.linspace(x.min(), x.max(), 100)\n",
    "yy = spl(xx)\n",
    "fig, ax = plt.subplots(figsize=(9, 5))\n",
    "plt.plot(x, y, 'o', xx, yy)\n",
    "plt.xticks(range(21, 40))"
   ]
  },
  {
   "cell_type": "code",
   "execution_count": null,
   "metadata": {},
   "outputs": [],
   "source": [
    "x = qb_age_curve.index\n",
    "y = qb_age_curve['anya_d_wm']\n",
    "spl = InterpolatedUnivariateSpline(x, y)\n",
    "xx = np.linspace(x.min(), x.max(), 100)\n",
    "yy = spl(xx)\n",
    "fig, ax = plt.subplots(figsize=(9, 5))\n",
    "plt.plot(x, y, 'o', xx, yy)\n",
    "plt.xticks(range(21, 40))"
   ]
  },
  {
   "cell_type": "markdown",
   "metadata": {},
   "source": [
    "## Helper Functions"
   ]
  },
  {
   "cell_type": "code",
   "execution_count": null,
   "metadata": {},
   "outputs": [],
   "source": [
    "# calculate fantasy points\n",
    "def qb_points(row, add_bonus=False):\n",
    "    \"\"\"Calculates qb fantasy points from row in dataframe\"\"\"\n",
    "    # assume 4 points pass TD, 1 point per 25 yards\n",
    "    # NOTE: our dataset does not have fumbles\n",
    "    points = 0\n",
    "    points += row.pass_yds * .04\n",
    "    points += row.pass_td * 4\n",
    "    points -= row.pass_int\n",
    "    points += row.rush_yds * .10\n",
    "    points += row.rush_td * 6\n",
    "    if add_bonus and row.pass_yds >= 300:\n",
    "        points += 3\n",
    "    return points"
   ]
  },
  {
   "cell_type": "code",
   "execution_count": null,
   "metadata": {},
   "outputs": [],
   "source": [
    "# add fantasy points\n",
    "def add_fantasy_points(df):\n",
    "    \"\"\"Adds fantasy points columns to dataframe\"\"\"\n",
    "    df['fpts'] = df.apply(qb_points, axis=1)\n",
    "    df['dkpts'] = df.apply(qb_points, args=(True,), axis=1)\n",
    "    return df"
   ]
  },
  {
   "cell_type": "code",
   "execution_count": null,
   "metadata": {},
   "outputs": [],
   "source": [
    "def yearly_stats(df):\n",
    "    statcols = ['pass_att', 'pass_cmp', 'pass_int', 'pass_td', 'pass_yds', 'rush_att',\n",
    "                'rush_td', 'rush_yds', 'air_yards', 'fpts', 'dkpts']\n",
    "    return df.groupby(['nflid', 'player', 'season_year'])[statcols].sum()"
   ]
  },
  {
   "cell_type": "code",
   "execution_count": null,
   "metadata": {},
   "outputs": [],
   "source": [
    "def age_as_of_game(df):\n",
    "    \"\"\"Player age as of game date\"\"\"\n",
    "    # calculate the age by subtracting birthdate from gamedate\n",
    "    # convert the timedelta to days, then divide by 365\n",
    "    return df.apply(lambda df_: (df_.game_date - df_.birthdate).days / 365, axis=1)"
   ]
  },
  {
   "cell_type": "code",
   "execution_count": null,
   "metadata": {},
   "outputs": [],
   "source": [
    "def age_as_of_season(df):\n",
    "    \"\"\"Player age as of season start (Sept 1)\"\"\"\n",
    "    # create index that is cross join of nflid and seasons\n",
    "    idx = pd.MultiIndex.from_product(\n",
    "            [df.nflid.unique(), df.season_year.unique()], \n",
    "            names = [\"nflid\", \"season_year\"]\n",
    "    )\n",
    "\n",
    "    df = pd.DataFrame(idx).reset_index().join(df, how='left', on='nflid')\n",
    "    return (\n",
    "        df\n",
    "        .assign(start_date=lambda df_: df_.season_year.apply(lambda x: datetime(x, 9, 1)))\n",
    "        .assign(age=lambda df_: df_.apply(lambda row: (row.start_date - row.birthdate).days / 365, axis=1))\n",
    "        .drop(['birthdate', 'start_date'], axis=1)\n",
    "        .set_index(['nflid', 'season_year'])\n",
    "    )\n"
   ]
  }
 ],
 "metadata": {
  "kernelspec": {
   "display_name": "Python 3",
   "language": "python",
   "name": "python3"
  },
  "language_info": {
   "codemirror_mode": {
    "name": "ipython",
    "version": 3
   },
   "file_extension": ".py",
   "mimetype": "text/x-python",
   "name": "python",
   "nbconvert_exporter": "python",
   "pygments_lexer": "ipython3",
   "version": "3.7.4"
  }
 },
 "nbformat": 4,
 "nbformat_minor": 4
}
